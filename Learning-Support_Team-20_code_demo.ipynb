{
 "cells": [
  {
   "cell_type": "code",
   "execution_count": 44,
   "metadata": {},
   "outputs": [],
   "source": [
    "import numpy as np\n",
    "import pandas as pd\n",
    "import matplotlib.pyplot as plt\n",
    "from datetime import date\n",
    "from sklearn.linear_model import LinearRegression\n",
    "\n",
    "from statsmodels.regression.quantile_regression import QuantReg\n",
    "import statsmodels.formula.api as smf\n",
    "from scipy.stats import norm\n",
    "import linear_utils"
   ]
  },
  {
   "cell_type": "markdown",
   "metadata": {},
   "source": [
    "### Initialize the data from deaths.csv into a dataframe."
   ]
  },
  {
   "cell_type": "code",
   "execution_count": 45,
   "metadata": {},
   "outputs": [],
   "source": [
    "url = 'https://raw.githubusercontent.com/mnuzen/156b-learning-support/master/data/us/covid/deaths.csv'\n",
    "df = pd.read_csv(url, header=0)"
   ]
  },
  {
   "cell_type": "markdown",
   "metadata": {},
   "source": [
    "### Process data, initializing cumulative cases."
   ]
  },
  {
   "cell_type": "code",
   "execution_count": 50,
   "metadata": {},
   "outputs": [],
   "source": [
    "cum_cases = df.iloc[:, 4:]\n",
    "countyFIPS = df.iloc[:, 0].to_numpy()\n",
    "cum_cases = cum_cases.to_numpy()\n",
    "\n",
    "all_zeros = [0 for i in range(14)]\n",
    "PREDS = []\n",
    "reg = LinearRegression()\n",
    "for i in range(len(cum_cases)):\n",
    "    test = cum_cases[i, -14:]\n",
    "    train = cum_cases[i, :-14]\n",
    "    if train[-1] == 0: # no training\n",
    "        PREDS.append(all_zeros)\n",
    "    else:\n",
    "        j = 0\n",
    "        while train[j] == 0:\n",
    "            j+=1\n",
    "        j-=1\n",
    "        y = train[j:]\n",
    "        x = np.array(range(len(y))).reshape((len(y), 1))\n",
    "        x_pred = np.array(range(len(y), len(y)+14)).reshape((14,1))\n",
    "        reg.fit(x, y)\n",
    "        pred = reg.predict(x_pred)\n",
    "        PREDS.append(pred)\n",
    "\n",
    "PREDS = np.array(PREDS)"
   ]
  },
  {
   "cell_type": "markdown",
   "metadata": {},
   "source": [
    "### Assuming normal distribution, predict future data. Ensure final prediction shapes and date formatting are correct."
   ]
  },
  {
   "cell_type": "code",
   "execution_count": 52,
   "metadata": {},
   "outputs": [
    {
     "name": "stdout",
     "output_type": "stream",
     "text": [
      "(44730, 10)\n",
      "['2020-05-17-17203' '0.0' '0.0' '0.0' '0.0' '0.007936507936507908'\n",
      " '0.3283243993226579' '0.6487122907088081' '0.9691001820949583'\n",
      " '1.2894880734811083']\n",
      "(3195, 14)\n"
     ]
    }
   ],
   "source": [
    "FINAL_PRED = linear_utils.linear(PREDS)\n",
    "FINAL_PRED = np.array(FINAL_PRED)"
   ]
  },
  {
   "cell_type": "markdown",
   "metadata": {},
   "source": [
    "### Return data in CSV formatting."
   ]
  },
  {
   "cell_type": "code",
   "execution_count": null,
   "metadata": {},
   "outputs": [],
   "source": [
    "df = pd.DataFrame(data={\"id\": FINAL_PRED[:, 0],\n",
    "                        \"10\": FINAL_PRED[:, 1],\n",
    "                        \"20\": FINAL_PRED[:, 2],\n",
    "                        \"30\": FINAL_PRED[:, 3],\n",
    "                        \"40\": FINAL_PRED[:, 4],\n",
    "                        \"50\": FINAL_PRED[:, 5],\n",
    "                        \"60\": FINAL_PRED[:, 6],\n",
    "                        \"70\": FINAL_PRED[:, 7],\n",
    "                        \"80\": FINAL_PRED[:, 8],\n",
    "                        \"90\": FINAL_PRED[:, 9]})\n",
    "\n",
    "df.to_csv(\"./submission_linreg_daily.csv\", sep=',',index=False)"
   ]
  },
  {
   "cell_type": "markdown",
   "metadata": {},
   "source": [
    "Our code takes about five minutes to run from beginning to end, relying mostly on a Python function (linear) implemented in a Python file named linear_utils, which we have imported in the beginning of the notebook. "
   ]
  },
  {
   "cell_type": "markdown",
   "metadata": {},
   "source": []
  }
 ],
 "metadata": {
  "kernelspec": {
   "display_name": "Python 3",
   "language": "python",
   "name": "python3"
  },
  "language_info": {
   "codemirror_mode": {
    "name": "ipython",
    "version": 3
   },
   "file_extension": ".py",
   "mimetype": "text/x-python",
   "name": "python",
   "nbconvert_exporter": "python",
   "pygments_lexer": "ipython3",
   "version": "3.7.6"
  }
 },
 "nbformat": 4,
 "nbformat_minor": 4
}
