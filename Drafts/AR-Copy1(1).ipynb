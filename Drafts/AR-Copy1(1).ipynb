{
 "cells": [
  {
   "cell_type": "code",
   "execution_count": 2,
   "metadata": {
    "scrolled": true
   },
   "outputs": [],
   "source": [
    "# !pip install statsmodels\n",
    "import numpy as np\n",
    "import pandas as pd\n",
    "import matplotlib.pyplot as plt\n",
    "from sklearn.preprocessing import MinMaxScaler\n",
    "from sklearn.linear_model import LogisticRegression\n",
    "\n",
    "# AR model\n",
    "from statsmodels.tsa.ar_model import AutoReg\n",
    "from sklearn.metrics import mean_squared_error\n",
    "from math import sqrt"
   ]
  },
  {
   "cell_type": "code",
   "execution_count": 3,
   "metadata": {},
   "outputs": [],
   "source": [
    "url = 'https://raw.githubusercontent.com/mnuzen/156b-learning-support/master/data/us/covid/confirmed_cases.csv'\n",
    "df = pd.read_csv(url, header=0)"
   ]
  },
  {
   "cell_type": "code",
   "execution_count": 4,
   "metadata": {
    "scrolled": true
   },
   "outputs": [],
   "source": [
    "cum_cases = df.iloc[:, 54:]\n",
    "countyFIPS = df.iloc[:, 0].to_numpy()\n",
    "daily_cases = cum_cases.diff(axis=1)\n",
    "daily_cases.iloc[:,0] = cum_cases.iloc[:, 0]\n",
    "\n",
    "# scale the data (values will be between 0 and 1) to increase the training speed and performance of the model\n",
    "# scaler = MinMaxScaler()\n",
    "# scaler.fit(daily_cases)\n",
    "# daily_cases_scaled = scaler.transform(daily_cases)\n",
    "\n",
    "# we will use daily data to train\n",
    "test_size = 14\n",
    "train_data = cum_cases.iloc[:, :-test_size].to_numpy()\n",
    "test_data = cum_cases.iloc[:, -test_size:].to_numpy()"
   ]
  },
  {
   "cell_type": "code",
   "execution_count": 5,
   "metadata": {},
   "outputs": [
    {
     "name": "stdout",
     "output_type": "stream",
     "text": [
      "Coefficients: [-2.12185649  0.27989208  0.74327405  0.11267185  0.05590323  0.13250408]\n",
      "predicted=72.329407, expected=71.000000\n",
      "predicted=79.427528, expected=78.000000\n",
      "predicted=86.087737, expected=87.000000\n",
      "predicted=93.399111, expected=98.000000\n",
      "predicted=101.099256, expected=102.000000\n",
      "predicted=109.239109, expected=103.000000\n",
      "predicted=117.727967, expected=109.000000\n",
      "predicted=126.633789, expected=114.000000\n",
      "predicted=135.964947, expected=117.000000\n",
      "predicted=145.737001, expected=123.000000\n",
      "predicted=155.954239, expected=132.000000\n",
      "predicted=166.631074, expected=143.000000\n",
      "predicted=177.780681, expected=147.000000\n",
      "predicted=189.416779, expected=154.000000\n",
      "Test RMSE: 17.952\n"
     ]
    },
    {
     "data": {
      "image/png": "[encoded data removed]",
      "text/plain": [
       "<Figure size 432x288 with 1 Axes>"
      ]
     },
     "metadata": {
      "needs_background": "light"
     },
     "output_type": "display_data"
    }
   ],
   "source": [
    "i = 2\n",
    "model = AutoReg(train_data[i], lags=4, trend='ct')\n",
    "model_fit = model.fit()\n",
    "print('Coefficients: %s' % model_fit.params)\n",
    "# make predictions\n",
    "\n",
    "predictions = model_fit.predict(start=len(train_data[i]), end=len(train_data[i])+len(test_data[i])-1, dynamic=False)\n",
    "for j in range(len(predictions)):\n",
    "    print('predicted=%f, expected=%f' % (predictions[j], test_data[i, j]))\n",
    "\n",
    "rmse = sqrt(mean_squared_error(test_data[i], predictions))\n",
    "print('Test RMSE: %.3f' % rmse)\n",
    "# plot results\n",
    "plt.plot(test_data[i], label='expected')\n",
    "plt.plot(predictions, label='predicted')\n",
    "plt.title('AR Predictions vs Expected')\n",
    "plt.legend()\n",
    "plt.show()"
   ]
  },
  {
   "cell_type": "code",
   "execution_count": 6,
   "metadata": {},
   "outputs": [],
   "source": [
    "arr_pred = []\n",
    "for i in range(len(train_data)):\n",
    "    model = AutoReg(train_data[i], lags=4, trend='ct')\n",
    "    model_fit = model.fit()\n",
    "\n",
    "    # make predictions\n",
    "    predictions = model_fit.predict(start=len(train_data[i])-9, end=len(train_data[i])+len(test_data[i])+67, dynamic=False)\n",
    "    arr_pred.append(predictions)"
   ]
  },
  {
   "cell_type": "code",
   "execution_count": 6,
   "metadata": {},
   "outputs": [
    {
     "name": "stdout",
     "output_type": "stream",
     "text": [
      "(3195, 91)\n",
      "      4/3/20  4/4/20  4/5/20  4/6/20  4/7/20  4/8/20  4/9/20  4/10/20  \\\n",
      "0          0       0       0       0       0       0       0        0   \n",
      "1         12      12      12      12      12      12      17       17   \n",
      "2         28      29      34      38      42      49      59       59   \n",
      "3          1       2       2       3       3       3       7        9   \n",
      "4          4       4       7       7       8       9      11       11   \n",
      "...      ...     ...     ...     ...     ...     ...     ...      ...   \n",
      "3190       3       4       5       5       6       6       6        7   \n",
      "3191      32      36      39      40      44      45      50       53   \n",
      "3192       1       2       2       3       3       3       4        4   \n",
      "3193       2       2       4       4       5       5       5        5   \n",
      "3194       0       0       0       0       0       0       0        0   \n",
      "\n",
      "      4/11/20  4/12/20  ...  4/16/20  4/17/20  4/18/20  4/19/20  4/20/20  \\\n",
      "0           0        0  ...        0        0        0        0        0   \n",
      "1          19       19  ...       25       25       25       27       28   \n",
      "2          66       71  ...      102      103      109      114      117   \n",
      "3          10       10  ...       14       15       18       20       22   \n",
      "4          13       16  ...       23       23       26       28       32   \n",
      "...       ...      ...  ...      ...      ...      ...      ...      ...   \n",
      "3190        7        7  ...       10       10       10       10       10   \n",
      "3191       53       56  ...       59       61       62       62       62   \n",
      "3192        4        4  ...        4        6        6        6        6   \n",
      "3193        5        5  ...        5        5        5        5        5   \n",
      "3194        0        0  ...        0        0        0        0        0   \n",
      "\n",
      "      4/21/20  4/22/20  4/23/20  4/24/20  4/25/20  \n",
      "0           0        0        0        0        0  \n",
      "1          30       32       33       36       37  \n",
      "2         123      132      143      147      154  \n",
      "3          28       29       30       32       33  \n",
      "4          32       33       33       34       35  \n",
      "...       ...      ...      ...      ...      ...  \n",
      "3190       10       10       10       10       10  \n",
      "3191       62       63       63       64       64  \n",
      "3192        6        6        6        6        6  \n",
      "3193        5        5        5        5        5  \n",
      "3194        0        0        0        0        0  \n",
      "\n",
      "[3195 rows x 23 columns]\n",
      "Test RMSE: 7594853777.239\n"
     ]
    }
   ],
   "source": [
    "daily_pred = np.asarray(arr_pred)\n",
    "cum_pred = np.zeros((len(train_data), 91))\n",
    "cum_pred[:, 0]= np.add(cum_cases.iloc[:, -24], daily_pred[:, 0])\n",
    "for i in range(1, len(daily_pred[0])):\n",
    "    cum_pred[:, i]= np.add(cum_pred[:, i-1], daily_pred[:, i])\n",
    "print(cum_pred.shape)\n",
    "print(cum_cases.iloc[:, -test_size-9:])\n",
    "\n",
    "rmse = sqrt(mean_squared_error(cum_pred[:, :-68], cum_cases.iloc[:, -test_size-9:]))\n",
    "print('Test RMSE: %.3f' % rmse)"
   ]
  },
  {
   "cell_type": "code",
   "execution_count": 8,
   "metadata": {},
   "outputs": [
    {
     "name": "stdout",
     "output_type": "stream",
     "text": [
      "[[0.00000000e+00 0.00000000e+00 0.00000000e+00 ... 0.00000000e+00\n",
      "  0.00000000e+00 0.00000000e+00]\n",
      " [2.15484172e+01 3.29433477e+01 4.60215241e+01 ... 4.00965768e+03\n",
      "  4.08966749e+03 4.17045686e+03]\n",
      " [5.39362001e+01 8.59635752e+01 1.19993955e+02 ... 8.23611512e+04\n",
      "  8.56358648e+04 8.90203706e+04]\n",
      " ...\n",
      " [1.87843738e+00 3.48457463e+00 5.74331354e+00 ... 9.82420320e+02\n",
      "  1.00263971e+03 1.02306386e+03]\n",
      " [4.15345024e+00 6.68498756e+00 9.32823967e+00 ... 1.17827247e+03\n",
      "  1.20213331e+03 1.22623127e+03]\n",
      " [0.00000000e+00 0.00000000e+00 0.00000000e+00 ... 0.00000000e+00\n",
      "  0.00000000e+00 0.00000000e+00]]\n",
      "91\n",
      "test\n",
      "3195\n",
      "(3195, 91)\n"
     ]
    }
   ],
   "source": [
    "print(cum_pred)\n",
    "print(np.size(cum_pred,1))\n",
    "print(\"test\")\n",
    "print(np.size(cum_pred,0))\n",
    "print(cum_pred.shape)"
   ]
  },
  {
   "cell_type": "code",
   "execution_count": 9,
   "metadata": {},
   "outputs": [
    {
     "name": "stdout",
     "output_type": "stream",
     "text": [
      "(9585,)\n",
      "[ 0.         21.54841721 53.93620011 ...  5.74331354  9.32823967\n",
      "  0.        ]\n"
     ]
    }
   ],
   "source": [
    "# ret = cum_pred[0]\n",
    "ret = cum_pred[:,0]\n",
    "ret1 = cum_pred[:,1]\n",
    "ret2 = cum_pred[:,2]\n",
    "\n",
    "fin = np.concatenate((ret, ret1), axis=0)\n",
    "fin = np.concatenate((fin, ret2), axis=0)\n",
    "\n",
    "print(fin.shape)\n",
    "print(fin)"
   ]
  },
  {
   "cell_type": "code",
   "execution_count": 14,
   "metadata": {},
   "outputs": [
    {
     "name": "stdout",
     "output_type": "stream",
     "text": [
      "[ 0.         21.54841721 53.93620011 ...  1.87843738  4.15345024\n",
      "  0.        ]\n",
      "[ 0.         32.94334767 85.96357517 ...  3.48457463  6.68498756\n",
      "  0.        ]\n",
      "[  0.          46.02152411 119.99395472 ...   5.74331354   9.32823967\n",
      "   0.        ]\n",
      "[  0.          58.21957085 158.5659863  ...   8.27435257  13.07911265\n",
      "   0.        ]\n",
      "[  0.          71.35351514 201.40778091 ...  11.45799325  17.53292749\n",
      "   0.        ]\n",
      "[  0.          84.80563148 248.36527145 ...  14.91393405  22.81917015\n",
      "   0.        ]\n",
      "[  0.          98.57591988 302.14239317 ...  18.47155447  27.94335491\n",
      "   0.        ]\n",
      "[  0.         115.97886491 365.17447968 ...  22.1507375   33.17925446\n",
      "   0.        ]\n",
      "[  0.         134.79619618 430.53451577 ...  26.55762042  38.19831382\n",
      "   0.        ]\n",
      "[  0.         152.26173894 502.8639232  ...  31.06618294  43.27060546\n",
      "   0.        ]\n",
      "[  0.         171.01106622 582.29145077 ...  35.42556434  48.44400315\n",
      "   0.        ]\n",
      "[  0.         189.39486184 668.37918763 ...  40.08563666  53.76107291\n",
      "   0.        ]\n",
      "[  0.         209.67307716 761.77829854 ...  44.87119951  59.26359159\n",
      "   0.        ]\n",
      "[  0.         230.202012   862.87755445 ...  49.72003764  64.975214\n",
      "   0.        ]\n",
      "[  0.         252.24617989 972.11666358 ...  54.80850857  70.91988389\n",
      "   0.        ]\n",
      "[   0.          274.41998925 1089.84463041 ...   59.97199396   77.11208923\n",
      "    0.        ]\n",
      "[   0.          297.76501046 1216.47841922 ...   65.31862519   83.55930324\n",
      "    0.        ]\n",
      "[   0.          321.4026041  1352.44336656 ...   70.83414055   90.26619317\n",
      "    0.        ]\n",
      "[   0.          346.19941923 1498.18036778 ...   76.49378957   97.23265829\n",
      "    0.        ]\n",
      "[   0.          371.48530399 1654.13460661 ...   82.35707594  104.45667231\n",
      "    0.        ]\n",
      "[   0.          397.85416322 1820.7656802  ...   88.38909343  111.93511528\n",
      "    0.        ]\n",
      "[   0.          424.76213613 1998.54636117 ...   94.6169854   119.66399645\n",
      "    0.        ]\n",
      "[   0.          452.64810612 2187.96314044 ...  101.04698561  127.63956817\n",
      "    0.        ]\n",
      "[   0.          481.1209465  2389.51556389 ...  107.67183554  135.85841702\n",
      "    0.        ]\n",
      "[   0.          510.52689241 2603.71707286 ...  114.50985968  144.31767431\n",
      "    0.        ]\n",
      "[   0.          540.5787746  2831.09542043 ...  121.55417082  153.01519004\n",
      "    0.        ]\n",
      "[   0.          571.53203767 3072.19311044 ...  128.81044431  161.94942104\n",
      "    0.        ]\n",
      "[   0.          603.16480372 3327.56772973 ...  136.28166594  171.11940104\n",
      "    0.        ]\n",
      "[   0.          635.6649918  3597.79237921 ...  143.96459688  180.52463784\n",
      "    0.        ]\n",
      "[   0.          668.86678198 3883.45611142 ...  151.86311353  190.16498201\n",
      "    0.        ]\n",
      "[   0.          702.91328834 4185.16438104 ...  159.97472021  200.04053497\n",
      "    0.        ]\n",
      "[   0.          737.68190422 4503.5394972  ...  168.29915719  210.1515475\n",
      "    0.        ]\n",
      "[   0.          773.28012314 4839.22109197 ...  176.83629845  220.49834282\n",
      "    0.        ]\n",
      "[   0.          809.61535906 5192.86660273 ...  185.58393821  231.08126272\n",
      "    0.        ]\n",
      "[   0.          846.76746667 5565.15176847 ...  194.54188975  241.90062583\n",
      "    0.        ]\n",
      "[   0.          884.66680909 5956.77113913 ...  203.70861122  252.95670537\n",
      "    0.        ]\n",
      "[   0.          923.37340558 6368.43859915 ...  213.08301273  264.24971847\n",
      "    0.        ]\n",
      "[   0.          962.83533395 6800.88790569 ...  222.66440236  275.77982399\n",
      "    0.        ]\n",
      "[   0.         1003.09772106 7254.87324182 ...  232.4516026   287.54712761\n",
      "    0.        ]\n",
      "[   0.         1044.12162897 7731.1697852  ...  242.44409895  299.55168984\n",
      "    0.        ]\n",
      "[   0.         1085.94078652 8230.57429245 ...  252.64122576  311.7935357\n",
      "    0.        ]\n",
      "[   0.         1128.52594097 8753.90569989 ...  263.04248133  324.27266472\n",
      "    0.        ]\n",
      "[   0.         1171.90236327 9302.00574097 ...  273.64761953  336.9890597\n",
      "    0.        ]\n",
      "[   0.         1216.04815687 9875.73958084 ...  284.45633669  349.94269423\n",
      "    0.        ]\n",
      "[    0.          1260.98229147 10475.99646868 ...   295.46855801\n",
      "   363.13353843     0.        ]\n",
      "[    0.          1306.68836516 11103.69040811 ...   306.68423904\n",
      "   376.56156307     0.        ]\n",
      "[    0.          1353.18058874 11759.76084631 ...   318.10339196\n",
      "   390.22674218     0.        ]\n",
      "[    0.          1400.44665777 12445.17338228 ...   329.7261249\n",
      "   404.12905447     0.        ]\n",
      "[    0.          1448.49721753 13160.92049486 ...   341.55253669\n",
      "   418.26848373     0.        ]\n",
      "[    0.          1497.32304673 13908.02229098 ...   353.58277881\n",
      "   432.6450187      0.        ]\n",
      "[    0.          1546.93212792 14687.5272748  ...   365.81700668\n",
      "   447.25865245     0.        ]\n",
      "[    0.          1597.31755249 15500.51313815 ...   378.25537045\n",
      "   462.1093815      0.        ]\n",
      "[    0.          1648.48530373 16348.08757307 ...   390.89802836\n",
      "   477.19720502     0.        ]\n",
      "[    0.          1700.43020242 17231.38910698 ...   403.74511571\n",
      "   492.52212399     0.        ]\n",
      "[    0.          1753.15673187 18151.587961   ...   416.79675862\n",
      "   508.08414044     0.        ]\n",
      "[    0.          1806.66100986 19109.88693225 ...   430.05306513\n",
      "   523.88325691     0.        ]\n",
      "[    0.          1860.94639694 20107.52230067 ...   443.51412141\n",
      "   539.91947605     0.        ]\n",
      "[    0.          1916.00998381 21145.76476113 ...   457.17999867\n",
      "   556.19280027     0.        ]\n",
      "[    0.          1971.85428948 22225.92038141 ...   471.05074734\n",
      "   572.70323165     0.        ]\n",
      "[    0.          2028.47713335 23349.33158692 ...   485.12640249\n",
      "   589.45077181     0.        ]\n",
      "[    0.          2085.88040326 24517.37817281 ...   499.40698496\n",
      "   606.43542191     0.        ]\n",
      "[    0.          2144.06246477 25731.47834421 ...   513.89250223\n",
      "   623.65718274     0.        ]\n",
      "[    0.          2203.02473278 26993.08978552 ...   528.58295272\n",
      "   641.11605471     0.        ]\n",
      "[    0.          2262.76598231 28303.71075938 ...   543.47832643\n",
      "   658.81203799     0.        ]\n",
      "[    0.          2323.28727391 29664.88123626 ...   558.57860781\n",
      "   676.74513256     0.        ]\n",
      "[    0.          2384.58768946 31078.18405554 ...   573.88377774\n",
      "   694.91533827     0.        ]\n",
      "[    0.          2446.66802382 32545.2461188  ...   589.39381476\n",
      "   713.32265492     0.        ]\n",
      "[    0.          2509.52758885 34067.7396165  ...   605.10869699\n",
      "   731.96708226     0.        ]\n",
      "[    0.          2573.16698029 35647.3832886  ...   621.02840297\n",
      "   750.84862008     0.        ]\n",
      "[    0.          2637.58568237 37285.94372048 ...   637.15291259\n",
      "   769.96726818     0.        ]\n",
      "[    0.          2702.78414161 38985.23667476 ...   653.48220785\n",
      "   789.3230264      0.        ]\n",
      "[    0.          2768.76197145 40747.1284603  ...   670.01627305\n",
      "   808.91589462     0.        ]\n",
      "[    0.          2835.51950656 42573.53733929 ...   686.75509517\n",
      "   828.74587275     0.        ]\n",
      "[    0.          2903.05645719 44466.43497349 ...   703.69866382\n",
      "   848.81296075     0.        ]\n",
      "[    0.          2971.37307419 46427.84791071 ...   720.84697114\n",
      "   869.11715859     0.        ]\n",
      "[    0.          3040.46914039 48459.85911277 ...   738.20001167\n",
      "   889.65846627     0.        ]\n",
      "[    0.          3110.34484381 50564.60952582 ...   755.75778206\n",
      "   910.4368838      0.        ]\n",
      "[    0.          3181.00002167 52744.2996946  ...   773.52028074\n",
      "   931.45241119     0.        ]\n",
      "[    0.          3252.43481488 55001.19142139 ...   791.48750767\n",
      "   952.70504847     0.        ]\n",
      "[    0.          3324.64910146 57337.60947138 ...   809.65946396\n",
      "   974.19479565     0.        ]\n",
      "[    0.          3397.64298702 59755.9433253  ...   828.03615161\n",
      "   995.92165275     0.        ]\n",
      "[    0.          3471.41638012 62258.648981   ...   846.6175732\n",
      "  1017.88561979     0.        ]\n",
      "[    0.          3545.96935993 64848.25080509 ...   865.40373166\n",
      "  1040.08669678     0.        ]\n",
      "[    0.          3621.30185791 67527.34343617 ...   884.39463006\n",
      "  1062.52488373     0.        ]\n",
      "[    0.          3697.41393339 70298.59374101 ...   903.59027143\n",
      "  1085.20018064     0.        ]\n",
      "[    0.          3774.305535   73164.74282522 ...   922.99065865\n",
      "  1108.11258752     0.        ]\n",
      "[    0.          3851.97670723 76128.60809982 ...   942.59579432\n",
      "  1131.26210437     0.        ]\n",
      "[    0.          3930.42741156 79193.08540547 ...   962.40568072\n",
      "  1154.64873119     0.        ]\n",
      "[    0.          4009.65768132 82361.15119569 ...   982.42031979\n",
      "  1178.27246797     0.        ]\n",
      "[    0.          4089.66748767 85635.86478093 ...  1002.63971306\n",
      "  1202.13331472     0.        ]\n",
      "[    0.          4170.45685559 89020.37063512 ...  1023.06386173\n",
      "  1226.23127144     0.        ]\n",
      "(290745,)\n"
     ]
    }
   ],
   "source": [
    "end = []\n",
    "for i in range(len(cum_pred[0])):\n",
    "    add = cum_pred[:,i] \n",
    "    end = np.concatenate((end, add), axis=0)\n",
    "    print(add)\n",
    "print(end.shape)"
   ]
  },
  {
   "cell_type": "code",
   "execution_count": 15,
   "metadata": {},
   "outputs": [],
   "source": [
    "#print(cum_cases.iloc[:, -test_size:])\n",
    "#cum_pred.to_csv(r'final.csv', index = False, header=True)\n",
    "np.savetxt(r'entry2.csv',end, delimiter=',')"
   ]
  },
  {
   "cell_type": "code",
   "execution_count": 12,
   "metadata": {},
   "outputs": [
    {
     "name": "stdout",
     "output_type": "stream",
     "text": [
      "(91, 3195)\n"
     ]
    }
   ],
   "source": [
    "fin = cum_pred.transpose()\n",
    "fin2 = fin.transpose()\n",
    "print(fin.shape)\n",
    "np.savetxt(r'C:\\Users\\Melba\\Desktop\\fin.csv',fin, delimiter=',')\n",
    "#s = pd.Series(fin)\n",
    "#s.to_csv (r'C:\\Users\\Melba\\Desktop\\fin.csv', index = False, header=True)\n"
   ]
  },
  {
   "cell_type": "code",
   "execution_count": 23,
   "metadata": {},
   "outputs": [],
   "source": [
    "url = 'https://raw.githubusercontent.com/mnuzen/156b-learning-support/master/sample_submission.csv'\n",
    "df = pd.read_csv(url, header=0)"
   ]
  },
  {
   "cell_type": "code",
   "execution_count": 24,
   "metadata": {},
   "outputs": [
    {
     "name": "stdout",
     "output_type": "stream",
     "text": [
      "                      id   10   20   30   40   50   60   70   80   90\n",
      "0       2020-04-01-10001  0.0  0.0  0.0  0.0  0.0  0.0  0.0  0.0  0.0\n",
      "1       2020-04-01-10003  0.0  0.0  0.0  0.0  0.0  0.0  0.0  0.0  0.0\n",
      "2       2020-04-01-10005  0.0  0.0  0.0  0.0  0.0  0.0  0.0  0.0  0.0\n",
      "3        2020-04-01-1001  0.0  0.0  0.0  0.0  0.0  0.0  0.0  0.0  0.0\n",
      "4        2020-04-01-1003  0.0  0.0  0.0  0.0  0.0  0.0  0.0  0.0  0.0\n",
      "...                  ...  ...  ...  ...  ...  ...  ...  ...  ...  ...\n",
      "293288   2020-06-30-9007  0.0  0.0  0.0  0.0  0.0  0.0  0.0  0.0  0.0\n",
      "293289   2020-06-30-9009  0.0  0.0  0.0  0.0  0.0  0.0  0.0  0.0  0.0\n",
      "293290   2020-06-30-9011  0.0  0.0  0.0  0.0  0.0  0.0  0.0  0.0  0.0\n",
      "293291   2020-06-30-9013  0.0  0.0  0.0  0.0  0.0  0.0  0.0  0.0  0.0\n",
      "293292   2020-06-30-9015  0.0  0.0  0.0  0.0  0.0  0.0  0.0  0.0  0.0\n",
      "\n",
      "[293293 rows x 10 columns]\n"
     ]
    }
   ],
   "source": [
    "print(df)"
   ]
  },
  {
   "cell_type": "code",
   "execution_count": null,
   "metadata": {},
   "outputs": [],
   "source": []
  }
 ],
 "metadata": {
  "kernelspec": {
   "display_name": "Python 3",
   "language": "python",
   "name": "python3"
  },
  "language_info": {
   "codemirror_mode": {
    "name": "ipython",
    "version": 3
   },
   "file_extension": ".py",
   "mimetype": "text/x-python",
   "name": "python",
   "nbconvert_exporter": "python",
   "pygments_lexer": "ipython3",
   "version": "3.7.6"
  }
 },
 "nbformat": 4,
 "nbformat_minor": 2
}
