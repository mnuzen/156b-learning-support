{
 "cells": [
  {
   "cell_type": "code",
   "execution_count": 1,
   "metadata": {},
   "outputs": [],
   "source": [
    "import torch\n",
    "import os\n",
    "import numpy as np\n",
    "import pandas as pd\n",
    "from tqdm import tqdm\n",
    "import seaborn as sns\n",
    "from pylab import rcParams\n",
    "import matplotlib.pyplot as plt\n",
    "from matplotlib import rc\n",
    "from sklearn.preprocessing import MinMaxScaler\n",
    "from pandas.plotting import register_matplotlib_converters\n",
    "from torch import nn, optim\n",
    "from scipy.stats import norm"
   ]
  },
  {
   "cell_type": "markdown",
   "metadata": {},
   "source": [
    "# Process Raw Input"
   ]
  },
  {
   "cell_type": "code",
   "execution_count": 2,
   "metadata": {},
   "outputs": [],
   "source": [
    "url = 'https://raw.githubusercontent.com/mnuzen/156b-learning-support/master/data/us/covid/confirmed_cases.csv'\n",
    "df = pd.read_csv(url, header=0)"
   ]
  },
  {
   "cell_type": "code",
   "execution_count": 3,
   "metadata": {},
   "outputs": [
    {
     "name": "stdout",
     "output_type": "stream",
     "text": [
      "   countyFIPS            County Name State  stateFIPS  1/22/20  1/23/20  \\\n",
      "0           0  Statewide Unallocated    AL          1        0        0   \n",
      "1        1001         Autauga County    AL          1        0        0   \n",
      "2        1003         Baldwin County    AL          1        0        0   \n",
      "3        1005         Barbour County    AL          1        0        0   \n",
      "4        1007            Bibb County    AL          1        0        0   \n",
      "\n",
      "   1/24/20  1/25/20  1/26/20  1/27/20  ...  4/18/20  4/19/20  4/20/20  \\\n",
      "0        0        0        0        0  ...        0        0        0   \n",
      "1        0        0        0        0  ...       25       27       28   \n",
      "2        0        0        0        0  ...      109      114      117   \n",
      "3        0        0        0        0  ...       18       20       22   \n",
      "4        0        0        0        0  ...       26       28       32   \n",
      "\n",
      "   4/21/20  4/22/20  4/23/20  4/24/20  4/25/20  4/26/20  4/27/20  \n",
      "0        0        0        0        0        0        0        0  \n",
      "1       30       32       33       36       37       37       39  \n",
      "2      123      132      143      147      154      161      168  \n",
      "3       28       29       30       32       33       33       35  \n",
      "4       32       33       33       34       35       38       42  \n",
      "\n",
      "[5 rows x 101 columns]\n"
     ]
    }
   ],
   "source": [
    "print(df.head(5))"
   ]
  },
  {
   "cell_type": "code",
   "execution_count": 4,
   "metadata": {},
   "outputs": [
    {
     "name": "stdout",
     "output_type": "stream",
     "text": [
      "[[0. 0. 0. ... 0. 0. 0.]\n",
      " [0. 0. 0. ... 1. 0. 2.]\n",
      " [0. 0. 0. ... 7. 7. 7.]\n",
      " ...\n",
      " [0. 0. 0. ... 0. 0. 0.]\n",
      " [0. 0. 0. ... 0. 0. 0.]\n",
      " [0. 0. 0. ... 0. 0. 0.]]\n",
      "(3195, 97)\n",
      "(3195, 97)\n"
     ]
    }
   ],
   "source": [
    "cum_cases = df.iloc[:, 4:]\n",
    "countyFIPS = df.iloc[:, 0].to_numpy()\n",
    "daily_cases = cum_cases.diff(axis=1).to_numpy()\n",
    "daily_cases[:,0] = cum_cases.iloc[:, 0]\n",
    "cum_cases = cum_cases.to_numpy()\n",
    "\n",
    "print(daily_cases)\n",
    "print(daily_cases.shape)\n",
    "print(cum_cases.shape)"
   ]
  },
  {
   "cell_type": "code",
   "execution_count": 5,
   "metadata": {},
   "outputs": [
    {
     "name": "stdout",
     "output_type": "stream",
     "text": [
      "1395\n",
      "1137\n",
      "527\n",
      "136\n",
      "[[   0    0    0 ... 3234 3359 3457]\n",
      " [   0    0    0 ... 1090 1136 1164]\n",
      " [   0    0    0 ... 1437 1468 1498]\n",
      " ...\n",
      " [   0    0    0 ... 2297 2311 2332]\n",
      " [   0    0    0 ...  976 1015 1034]\n",
      " [   0    0    0 ... 2525 2629 2674]]\n"
     ]
    }
   ],
   "source": [
    "# divide the counties into groups to build different models\n",
    "# 0-10 cumulative confirmed cases\n",
    "group1 = []\n",
    "\n",
    "# 11-100 cumulative confirmed cases\n",
    "group2 = []\n",
    "\n",
    "# 101-1000 cumulative confirmed cases\n",
    "group3 = []\n",
    "\n",
    "# more than 1000 cumulative confirmed cases\n",
    "group4 = []\n",
    "for i in range(len(cum_cases)):\n",
    "    cases = cum_cases[i, -1]\n",
    "    if cases <= 10:\n",
    "        group1.append(i)\n",
    "    elif cases <= 100:\n",
    "        group2.append(i)\n",
    "    elif cases <= 1000:\n",
    "        group3.append(i)\n",
    "    else:\n",
    "        group4.append(i)\n",
    "print(len(group1))\n",
    "print(len(group2))\n",
    "print(len(group3))\n",
    "print(len(group4))\n",
    "\n",
    "print(cum_cases[group4])\n",
    "groups = [group1, group2, group3, group4]"
   ]
  },
  {
   "cell_type": "markdown",
   "metadata": {},
   "source": [
    "# Building a Model"
   ]
  },
  {
   "cell_type": "code",
   "execution_count": 6,
   "metadata": {},
   "outputs": [],
   "source": [
    "class CoronaVirusPredictor(nn.Module):\n",
    "    def __init__(self, n_features, n_hidden, seq_len, n_layers=2):\n",
    "        super(CoronaVirusPredictor, self).__init__()\n",
    "\n",
    "        self.n_hidden = n_hidden\n",
    "        self.seq_len = seq_len\n",
    "        self.n_layers = n_layers\n",
    "\n",
    "        self.lstm = nn.LSTM(\n",
    "          input_size=n_features,\n",
    "          hidden_size=n_hidden,\n",
    "          num_layers=n_layers,\n",
    "          dropout=0.5\n",
    "        )\n",
    "\n",
    "        self.linear = nn.Linear(in_features=n_hidden, out_features=n_features)\n",
    "\n",
    "    def reset_hidden_state(self):\n",
    "        self.hidden = (\n",
    "            torch.zeros(self.n_layers, self.seq_len, self.n_hidden),\n",
    "            torch.zeros(self.n_layers, self.seq_len, self.n_hidden)\n",
    "        )\n",
    "\n",
    "    def forward(self, sequences):\n",
    "        lstm_out, self.hidden = self.lstm(\n",
    "          sequences.view(len(sequences), self.seq_len, -1),\n",
    "          self.hidden\n",
    "        )\n",
    "        last_time_step = lstm_out.view(self.seq_len, len(sequences), self.n_hidden)[-1]\n",
    "        y_pred = self.linear(last_time_step)\n",
    "        return y_pred"
   ]
  },
  {
   "cell_type": "markdown",
   "metadata": {},
   "source": [
    "# Training a Model"
   ]
  },
  {
   "cell_type": "code",
   "execution_count": 7,
   "metadata": {},
   "outputs": [],
   "source": [
    "def train_model(\n",
    "    model,\n",
    "    num_epochs,\n",
    "    train_data,\n",
    "    train_labels,\n",
    "    test_data=None,\n",
    "    test_labels=None,\n",
    "):\n",
    "    loss_fn = torch.nn.MSELoss(reduction='sum')\n",
    "\n",
    "    optimiser = torch.optim.Adam(model.parameters(), lr=1e-3)\n",
    "\n",
    "    train_hist = np.zeros(num_epochs)\n",
    "    test_hist = np.zeros(num_epochs)\n",
    "\n",
    "    for t in range(num_epochs):\n",
    "        model.reset_hidden_state()\n",
    "        y_pred = model(train_data)\n",
    "#         print(y_pred.shape)\n",
    "#         print(train_labels.shape)\n",
    "        loss = loss_fn(y_pred.float(), train_labels)\n",
    "\n",
    "        if test_data is not None:\n",
    "            with torch.no_grad():\n",
    "                y_test_pred = model(test_data)\n",
    "                test_loss = loss_fn(y_test_pred.float(), test_labels)\n",
    "            test_hist[t] = test_loss.item()\n",
    "        \n",
    "        train_hist[t] = loss.item()\n",
    "\n",
    "        optimiser.zero_grad()\n",
    "\n",
    "        loss.backward()\n",
    "\n",
    "        optimiser.step()\n",
    "    if test_data is not None:\n",
    "        print(f'Epoch {num_epochs} train loss: {loss.item()} test loss: {test_loss.item()}')\n",
    "    else:\n",
    "        print(f'Epoch {num_epochs} train loss: {loss.item()}')\n",
    "\n",
    "\n",
    "    return model.eval(), train_hist, test_hist"
   ]
  },
  {
   "cell_type": "markdown",
   "metadata": {},
   "source": [
    "# Create Sequences of Data"
   ]
  },
  {
   "cell_type": "code",
   "execution_count": 8,
   "metadata": {},
   "outputs": [],
   "source": [
    "# create sequnces of k data points (X, y) \n",
    "# where X is an array of daily cases for \"seq_length\" consecutive days\n",
    "# and y is the daily cases for \"seq_length + 1\"-th day\n",
    "def create_sequences(data, seq_length):\n",
    "    xs = []\n",
    "    ys = []\n",
    "\n",
    "    for i in range(len(data)-seq_length):\n",
    "        x = data[i:(i+seq_length)]\n",
    "        y = data[i+seq_length]\n",
    "        xs.append(x)\n",
    "        ys.append(y)\n",
    "\n",
    "    return np.array(xs), np.array(ys)"
   ]
  },
  {
   "cell_type": "markdown",
   "metadata": {},
   "source": [
    "# Scaling and Prepare the Training and Test data"
   ]
  },
  {
   "cell_type": "code",
   "execution_count": 9,
   "metadata": {},
   "outputs": [],
   "source": [
    "def scale_data(seq_length, train_data, test_data=None):\n",
    "    # scale the data (values will be between 0 and 1) to increase the training speed and performance of the model\n",
    "    scaler = MinMaxScaler()\n",
    "    train_data = scaler.fit_transform(train_data)\n",
    "\n",
    "    # create actual X (first k days),Y ((k+1)th day) for training\n",
    "    X_train, y_train = create_sequences(train_data, seq_length)\n",
    "    X_train = torch.from_numpy(X_train).float()\n",
    "    y_train = torch.from_numpy(y_train).float()#.unsqueeze(1)\n",
    "    \n",
    "    if test_data is not None:\n",
    "        test_data = scaler.transform(test_data)\n",
    "        test_data_extended = np.concatenate((train_data[-seq_length:], test_data))\n",
    "        print(test_data_extended.shape)\n",
    "        X_test, y_test = create_sequences(test_data_extended, seq_length)\n",
    "        X_test = torch.from_numpy(X_test).float()\n",
    "        y_test = torch.from_numpy(y_test).float()#.unsqueeze(1)\n",
    "        return scaler, X_train, y_train, X_test, y_test\n",
    "    return scaler, X_train, y_train"
   ]
  },
  {
   "cell_type": "markdown",
   "metadata": {},
   "source": [
    "# Choose the Number of Epochs, Hidden Nodes, Layers"
   ]
  },
  {
   "cell_type": "code",
   "execution_count": 10,
   "metadata": {},
   "outputs": [
    {
     "name": "stdout",
     "output_type": "stream",
     "text": [
      "(83, 1395)\n",
      "(14, 1395)\n",
      "(19, 1395)\n",
      "torch.Size([78, 5, 1395])\n",
      "torch.Size([78, 1395])\n",
      "torch.Size([14, 5, 1395])\n",
      "torch.Size([14, 1395])\n",
      "layers = 2 hidden nodes = 700\n",
      "Epoch 20 train loss: 1470.6090087890625 test loss: 2719.045166015625\n"
     ]
    },
    {
     "data": {
      "image/png": "[encoded data removed]",
      "text/plain": [
       "<Figure size 432x288 with 1 Axes>"
      ]
     },
     "metadata": {
      "needs_background": "light"
     },
     "output_type": "display_data"
    }
   ],
   "source": [
    "seq_length = 5\n",
    "test_size = 14\n",
    "\n",
    "train_data = daily_cases[group1, :-test_size]\n",
    "test_data = daily_cases[group1, -test_size:]\n",
    "# must transpose data########################\n",
    "train_data = train_data.transpose()\n",
    "test_data = test_data.transpose()\n",
    "#############################################\n",
    "\n",
    "print(train_data.shape)\n",
    "print(test_data.shape)\n",
    "\n",
    "my_scaler, X_train, y_train, X_test, y_test = scale_data(seq_length, train_data, test_data)\n",
    "\n",
    "print(X_train.shape)\n",
    "print(y_train.shape)\n",
    "print(X_test.shape)\n",
    "print(y_test.shape)\n",
    "\n",
    "# for layers in range(2, 5):\n",
    "#     for hidden in [128, 256, 512, 700]:\n",
    "layers = 2\n",
    "hidden = 700\n",
    "print('layers = ' +str(layers) + ' hidden nodes = '+ str(hidden))\n",
    "model = CoronaVirusPredictor(\n",
    "  n_features=len(group1),\n",
    "  n_hidden=hidden,\n",
    "  seq_len=seq_length,\n",
    "  n_layers=layers\n",
    ")\n",
    "\n",
    "model, train_hist, test_hist = train_model(\n",
    "    model,\n",
    "    20,\n",
    "    X_train,\n",
    "    y_train,\n",
    "    X_test,\n",
    "    y_test\n",
    ")\n",
    "plt.figure()\n",
    "plt.plot(train_hist, label=\"Training loss\")\n",
    "plt.plot(test_hist, label=\"Test loss\")\n",
    "plt.legend()\n",
    "plt.show()"
   ]
  },
  {
   "cell_type": "markdown",
   "metadata": {},
   "source": [
    "As the number of layers increases, test performance worsen, so we choose the lowest number, 2.\n",
    "As the number of hidden nodes increase, test performance gets better, so we choose 700 hidden nodes.\n",
    "The lowest test error occurs at 2 layers and 700 hidden nodes (test loss = 5761).\n",
    "We will use 20 epochs to train as test error ceases to drop after this."
   ]
  },
  {
   "cell_type": "markdown",
   "metadata": {},
   "source": [
    "# helper function: get date"
   ]
  },
  {
   "cell_type": "code",
   "execution_count": 11,
   "metadata": {},
   "outputs": [],
   "source": [
    "#4-30, 5-31, 6-1\n",
    "def get_date(days_since_41):\n",
    "    days_since_41 += 1\n",
    "    res = '2020-'\n",
    "    if days_since_41 <= 9:\n",
    "        res += '04-0' + str(days_since_41)\n",
    "    elif days_since_41 <=30:\n",
    "        res += '04-' + str(days_since_41)\n",
    "    elif days_since_41 <=39:\n",
    "        d = days_since_41 - 30 \n",
    "        res += '05-0' + str(d)\n",
    "    elif days_since_41 <= 61:\n",
    "        d = days_since_41 - 30 \n",
    "        res += '05-' + str(d)\n",
    "    else:\n",
    "        res = '2020-06-01'\n",
    "    return res"
   ]
  },
  {
   "cell_type": "markdown",
   "metadata": {},
   "source": [
    "# Predicting Daily Cases"
   ]
  },
  {
   "cell_type": "code",
   "execution_count": 12,
   "metadata": {},
   "outputs": [
    {
     "name": "stdout",
     "output_type": "stream",
     "text": [
      "Epoch 20 train loss: 2158.6552734375\n",
      "(86490, 10)\n",
      "Epoch 20 train loss: 2620.36767578125\n",
      "(156984, 10)\n",
      "Epoch 20 train loss: 1119.0284423828125\n",
      "(189658, 10)\n",
      "Epoch 20 train loss: 293.8252868652344\n",
      "(198090, 10)\n"
     ]
    }
   ],
   "source": [
    "FINAL_PRED = []\n",
    "for g in range(len(groups)):\n",
    "    group = groups[g]\n",
    "    # building model using all current data\n",
    "    my_scaler, X_train, y_train = scale_data(seq_length, daily_cases[group].transpose())\n",
    "    # print(X_train.shape)\n",
    "    # print(y_train.shape)\n",
    "\n",
    "    model = CoronaVirusPredictor(\n",
    "      n_features=len(group),\n",
    "      n_hidden=700,\n",
    "      seq_len=seq_length,\n",
    "      n_layers=2\n",
    "    )\n",
    "\n",
    "    model_trained, train_hist, test_hist = train_model(\n",
    "        model,\n",
    "        20,\n",
    "        X_train,\n",
    "        y_train,\n",
    "    )\n",
    "\n",
    "    # since there are more than one day that we need to predict, we will use prediction as input value for later predictions\n",
    "    # 1/22 - 6/1: 132 days inclusive\n",
    "    # 4/1 - 6/1: 62 days inclusive\n",
    "    # 1/22 - 4/1: 70 days excluding 4/1\n",
    "    # the first sequence is 66-70\n",
    "\n",
    "    with torch.no_grad():\n",
    "        # when real X data is available\n",
    "        real_X = X_train[66:]\n",
    "        preds = model_trained(real_X).numpy()\n",
    "\n",
    "        # when we need to use predicted X data\n",
    "        # first sequence is the last 5 days of real data\n",
    "        temp_y = y_train[-1:, :].unsqueeze(1)\n",
    "        temp_X = X_train[-1:, 1:, :]\n",
    "        test_seq = torch.cat((temp_X, temp_y), 1)\n",
    "\n",
    "        for _ in range(len(daily_cases[0]) - 1, 132):\n",
    "            pred = model_trained(test_seq)\n",
    "            preds = np.concatenate((preds, pred.numpy()), axis=0)\n",
    "            test_seq = torch.cat((test_seq[:, 1:, :], pred.unsqueeze(1)), 1)\n",
    "\n",
    "    unscaled_preds = my_scaler.inverse_transform(preds)\n",
    "    cum_preds = np.zeros((62, len(unscaled_preds[0])))\n",
    "    cum_preds[0] = np.add(cum_cases[group, 70], unscaled_preds[0])\n",
    "    for i in range(len(unscaled_preds) - 1):\n",
    "        cum_preds[i+1] = np.add(cum_preds[i], unscaled_preds[i+1])\n",
    "    \n",
    "    # assume normal distribution\n",
    "    std = 10**(g/2)\n",
    "    for date in range(len(cum_preds)):\n",
    "        for county in range(len(cum_preds[0])):\n",
    "            heading = get_date(date) + '-' + str(countyFIPS[group[county]])\n",
    "            mean = cum_preds[date, county]\n",
    "            quantiles = np.linspace(norm.ppf(0.1, mean, std), norm.ppf(0.9, mean, std), 9).tolist()\n",
    "            quantiles.insert(0, heading)\n",
    "            FINAL_PRED.append(quantiles)\n",
    "    print(np.array(FINAL_PRED).shape)  \n"
   ]
  },
  {
   "cell_type": "code",
   "execution_count": 358,
   "metadata": {},
   "outputs": [],
   "source": [
    "FINAL_PRED = np.array(FINAL_PRED)\n",
    "df = pd.DataFrame(data={\"id\": FINAL_PRED[:, 0], \n",
    "                        \"10\": FINAL_PRED[:, 1], \n",
    "                        \"20\": FINAL_PRED[:, 2], \n",
    "                        \"30\": FINAL_PRED[:, 3], \n",
    "                        \"40\": FINAL_PRED[:, 4], \n",
    "                        \"50\": FINAL_PRED[:, 5], \n",
    "                        \"60\": FINAL_PRED[:, 6], \n",
    "                        \"70\": FINAL_PRED[:, 7], \n",
    "                        \"80\": FINAL_PRED[:, 8], \n",
    "                        \"90\": FINAL_PRED[:, 9]})\n",
    "df.to_csv(\"./submission_lstm.csv\", sep=',',index=False)"
   ]
  },
  {
   "cell_type": "code",
   "execution_count": null,
   "metadata": {},
   "outputs": [],
   "source": []
  },
  {
   "cell_type": "code",
   "execution_count": null,
   "metadata": {},
   "outputs": [],
   "source": [
    "# plt.plot(\n",
    "#   range(len(train_data)),\n",
    "#   train_data,\n",
    "#   label='Historical Daily Cases'\n",
    "# )\n",
    "\n",
    "# plt.plot(\n",
    "#   range(len(train_data), len(train_data) + len(true_cases)),\n",
    "#   test_data,\n",
    "#   label='Real Daily Cases'\n",
    "# )\n",
    "\n",
    "# plt.plot(\n",
    "#   range(len(train_data), len(train_data) + len(true_cases)),\n",
    "#   predicted_cases,\n",
    "#   label='Predicted Daily Cases'\n",
    "# )\n",
    "\n",
    "# plt.legend()\n",
    "# plt.show()"
   ]
  }
 ],
 "metadata": {
  "kernelspec": {
   "display_name": "Python 3",
   "language": "python",
   "name": "python3"
  },
  "language_info": {
   "codemirror_mode": {
    "name": "ipython",
    "version": 3
   },
   "file_extension": ".py",
   "mimetype": "text/x-python",
   "name": "python",
   "nbconvert_exporter": "python",
   "pygments_lexer": "ipython3",
   "version": "3.7.6"
  }
 },
 "nbformat": 4,
 "nbformat_minor": 2
}
