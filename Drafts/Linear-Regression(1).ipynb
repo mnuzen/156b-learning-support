{
 "cells": [
  {
   "cell_type": "code",
   "execution_count": 8,
   "metadata": {},
   "outputs": [],
   "source": [
    "# !pip install statsmodels\n",
    "import numpy as np\n",
    "import pandas as pd\n",
    "import matplotlib.pyplot as plt\n",
    "from datetime import date\n",
    "from sklearn.linear_model import LinearRegression\n",
    "\n",
    "from statsmodels.regression.quantile_regression import QuantReg\n",
    "import statsmodels.formula.api as smf\n",
    "from scipy.stats import norm"
   ]
  },
  {
   "cell_type": "code",
   "execution_count": 2,
   "metadata": {},
   "outputs": [],
   "source": [
    "url = 'https://raw.githubusercontent.com/mnuzen/156b-learning-support/master/data/us/covid/deaths.csv'\n",
    "df = pd.read_csv(url, header=0)"
   ]
  },
  {
   "cell_type": "code",
   "execution_count": 3,
   "metadata": {},
   "outputs": [
    {
     "name": "stdout",
     "output_type": "stream",
     "text": [
      "(3195, 109)\n"
     ]
    }
   ],
   "source": [
    "cum_cases = df.iloc[:, 4:]\n",
    "countyFIPS = df.iloc[:, 0].to_numpy()\n",
    "cum_cases = cum_cases.to_numpy()\n",
    "print(cum_cases.shape)"
   ]
  },
  {
   "cell_type": "code",
   "execution_count": 4,
   "metadata": {},
   "outputs": [],
   "source": [
    "all_zeros = [0 for i in range(91)]\n",
    "PREDS = []\n",
    "reg = LinearRegression()\n",
    "for i in range(len(cum_cases)):\n",
    "    if cum_cases[i, -1] == 0: # no training\n",
    "        PREDS.append(all_zeros)\n",
    "    else:\n",
    "        y = cum_cases[i]\n",
    "        j = 0\n",
    "        while y[j] == 0:\n",
    "            j+=1\n",
    "        y = y[j:]\n",
    "        x = np.array(range(j, j+len(y))).reshape((len(y), 1))\n",
    "        x_pred = np.array(range(70, 161)).reshape((91,1))\n",
    "        reg.fit(x, y)\n",
    "        pred = reg.predict(x_pred)\n",
    "        PREDS.append(pred)"
   ]
  },
  {
   "cell_type": "code",
   "execution_count": 27,
   "metadata": {},
   "outputs": [
    {
     "name": "stdout",
     "output_type": "stream",
     "text": [
      "(3195, 91)\n"
     ]
    }
   ],
   "source": [
    "PREDS = np.array(PREDS)\n",
    "print(PREDS.shape)\n",
    "DAILY_PRED = np.zeros((3195,91))\n",
    "DAILY_PRED[:, 0] = np.subtract(PREDS[:,0], cum_cases[:, 69])\n",
    "for i in range(1, len(DAILY_PRED[0])):\n",
    "    DAILY_PRED[:, i] = np.subtract(PREDS[:,i], PREDS[:, i-1])"
   ]
  },
  {
   "cell_type": "code",
   "execution_count": 28,
   "metadata": {},
   "outputs": [],
   "source": [
    "FINAL_PRED = []\n",
    "dates = np.loadtxt('dates.txt', dtype=np.str)\n",
    "# assume normal distribution\n",
    "for county in range(len(DAILY_PRED)):\n",
    "    for date in range(len(DAILY_PRED[0])):\n",
    "        mean = DAILY_PRED[county, date]\n",
    "        std = max(1, mean)**(1/2)\n",
    "        heading = dates[date] + '-' + str(countyFIPS[county])\n",
    "        quantiles = np.linspace(norm.ppf(0.1, mean, std), norm.ppf(0.9, mean, std), 9)\n",
    "        quantiles = quantiles.clip(0).tolist()\n",
    "        quantiles.insert(0, heading)\n",
    "        FINAL_PRED.append(quantiles)"
   ]
  },
  {
   "cell_type": "code",
   "execution_count": 31,
   "metadata": {},
   "outputs": [
    {
     "name": "stdout",
     "output_type": "stream",
     "text": [
      "(290745, 10)\n",
      "['2020-04-22-0' '0.0' '0.0' '0.0' '0.0' '0.0' '0.32038789138615'\n",
      " '0.6407757827723002' '0.9611636741584504' '1.2815515655446004']\n"
     ]
    }
   ],
   "source": [
    "FINAL_PRED = np.array(FINAL_PRED)\n",
    "print(FINAL_PRED.shape)\n",
    "print(FINAL_PRED[64813])"
   ]
  },
  {
   "cell_type": "code",
   "execution_count": 32,
   "metadata": {},
   "outputs": [],
   "source": [
    "df = pd.DataFrame(data={\"id\": FINAL_PRED[:, 0], \n",
    "                        \"10\": FINAL_PRED[:, 1], \n",
    "                        \"20\": FINAL_PRED[:, 2], \n",
    "                        \"30\": FINAL_PRED[:, 3], \n",
    "                        \"40\": FINAL_PRED[:, 4], \n",
    "                        \"50\": FINAL_PRED[:, 5], \n",
    "                        \"60\": FINAL_PRED[:, 6], \n",
    "                        \"70\": FINAL_PRED[:, 7], \n",
    "                        \"80\": FINAL_PRED[:, 8], \n",
    "                        \"90\": FINAL_PRED[:, 9]})\n",
    "df.to_csv(\"./submission_linreg_daily.csv\", sep=',',index=False)"
   ]
  },
  {
   "cell_type": "code",
   "execution_count": 35,
   "metadata": {},
   "outputs": [],
   "source": [
    "url = 'https://raw.githubusercontent.com/mnuzen/156b-learning-support/master/sample_submission.csv'\n",
    "df = pd.read_csv(url, header=0)\n",
    "df.to_csv(\"./sample_submission.csv\", sep=',',index=False)"
   ]
  },
  {
   "cell_type": "code",
   "execution_count": null,
   "metadata": {},
   "outputs": [],
   "source": []
  }
 ],
 "metadata": {
  "kernelspec": {
   "display_name": "Python 3",
   "language": "python",
   "name": "python3"
  },
  "language_info": {
   "codemirror_mode": {
    "name": "ipython",
    "version": 3
   },
   "file_extension": ".py",
   "mimetype": "text/x-python",
   "name": "python",
   "nbconvert_exporter": "python",
   "pygments_lexer": "ipython3",
   "version": "3.7.6"
  }
 },
 "nbformat": 4,
 "nbformat_minor": 2
}
