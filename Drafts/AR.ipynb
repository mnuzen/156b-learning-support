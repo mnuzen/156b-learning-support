{
 "cells": [
  {
   "cell_type": "code",
   "execution_count": 21,
   "metadata": {
    "scrolled": true
   },
   "outputs": [],
   "source": [
    "# !pip install statsmodels\n",
    "import numpy as np\n",
    "import pandas as pd\n",
    "import matplotlib.pyplot as plt\n",
    "from sklearn.preprocessing import MinMaxScaler\n",
    "from sklearn.linear_model import LogisticRegression\n",
    "\n",
    "# AR model\n",
    "import statsmodels.tsa.ar_model as sm\n",
    "# from statsmodels.tsa.ar_model import AutoReg\n",
    "from sklearn.metrics import mean_squared_error\n",
    "from math import sqrt"
   ]
  },
  {
   "cell_type": "code",
   "execution_count": 22,
   "metadata": {},
   "outputs": [],
   "source": [
    "url = 'https://raw.githubusercontent.com/mnuzen/156b-learning-support/master/data/us/covid/confirmed_cases.csv'\n",
    "df = pd.read_csv(url, header=0)"
   ]
  },
  {
   "cell_type": "code",
   "execution_count": 23,
   "metadata": {
    "scrolled": true
   },
   "outputs": [
    {
     "ename": "AttributeError",
     "evalue": "'DataFrame' object has no attribute 'to_numpy'",
     "output_type": "error",
     "traceback": [
      "\u001b[0;31m---------------------------------------------------------------------------\u001b[0m",
      "\u001b[0;31mAttributeError\u001b[0m                            Traceback (most recent call last)",
      "\u001b[0;32m<ipython-input-23-e50ed1cab137>\u001b[0m in \u001b[0;36m<module>\u001b[0;34m\u001b[0m\n\u001b[1;32m     11\u001b[0m \u001b[0;31m# we will use daily data to train\u001b[0m\u001b[0;34m\u001b[0m\u001b[0;34m\u001b[0m\u001b[0;34m\u001b[0m\u001b[0m\n\u001b[1;32m     12\u001b[0m \u001b[0mtest_size\u001b[0m \u001b[0;34m=\u001b[0m \u001b[0;36m14\u001b[0m\u001b[0;34m\u001b[0m\u001b[0;34m\u001b[0m\u001b[0m\n\u001b[0;32m---> 13\u001b[0;31m \u001b[0mtrain_data\u001b[0m \u001b[0;34m=\u001b[0m \u001b[0mcum_cases\u001b[0m\u001b[0;34m.\u001b[0m\u001b[0miloc\u001b[0m\u001b[0;34m[\u001b[0m\u001b[0;34m:\u001b[0m\u001b[0;34m,\u001b[0m \u001b[0;34m:\u001b[0m\u001b[0;34m-\u001b[0m\u001b[0mtest_size\u001b[0m\u001b[0;34m]\u001b[0m\u001b[0;34m.\u001b[0m\u001b[0mto_numpy\u001b[0m\u001b[0;34m(\u001b[0m\u001b[0;34m)\u001b[0m\u001b[0;34m\u001b[0m\u001b[0;34m\u001b[0m\u001b[0m\n\u001b[0m\u001b[1;32m     14\u001b[0m \u001b[0mtest_data\u001b[0m \u001b[0;34m=\u001b[0m \u001b[0mcum_cases\u001b[0m\u001b[0;34m.\u001b[0m\u001b[0miloc\u001b[0m\u001b[0;34m[\u001b[0m\u001b[0;34m:\u001b[0m\u001b[0;34m,\u001b[0m \u001b[0;34m-\u001b[0m\u001b[0mtest_size\u001b[0m\u001b[0;34m:\u001b[0m\u001b[0;34m]\u001b[0m\u001b[0;34m.\u001b[0m\u001b[0mto_numpy\u001b[0m\u001b[0;34m(\u001b[0m\u001b[0;34m)\u001b[0m\u001b[0;34m\u001b[0m\u001b[0;34m\u001b[0m\u001b[0m\n",
      "\u001b[0;32m/usr/local/lib/python3.7/site-packages/pandas/core/generic.py\u001b[0m in \u001b[0;36m__getattr__\u001b[0;34m(self, name)\u001b[0m\n\u001b[1;32m   4374\u001b[0m         ...                   index=index)\n\u001b[1;32m   4375\u001b[0m         \u001b[0;34m>>\u001b[0m\u001b[0;34m>\u001b[0m \u001b[0mdf\u001b[0m\u001b[0;34m\u001b[0m\u001b[0;34m\u001b[0m\u001b[0m\n\u001b[0;32m-> 4376\u001b[0;31m                    \u001b[0mhttp_status\u001b[0m  \u001b[0mresponse_time\u001b[0m\u001b[0;34m\u001b[0m\u001b[0;34m\u001b[0m\u001b[0m\n\u001b[0m\u001b[1;32m   4377\u001b[0m         \u001b[0mFirefox\u001b[0m            \u001b[0;36m200\u001b[0m           \u001b[0;36m0.04\u001b[0m\u001b[0;34m\u001b[0m\u001b[0;34m\u001b[0m\u001b[0m\n\u001b[1;32m   4378\u001b[0m         \u001b[0mChrome\u001b[0m             \u001b[0;36m200\u001b[0m           \u001b[0;36m0.02\u001b[0m\u001b[0;34m\u001b[0m\u001b[0;34m\u001b[0m\u001b[0m\n",
      "\u001b[0;31mAttributeError\u001b[0m: 'DataFrame' object has no attribute 'to_numpy'"
     ]
    }
   ],
   "source": [
    "cum_cases = df.iloc[:, 4:]\n",
    "countyFIPS = df.iloc[:, 0]\n",
    "daily_cases = cum_cases.diff(axis=1)\n",
    "daily_cases.iloc[:,0] = cum_cases.iloc[:, 0]\n",
    "\n",
    "# scale the data (values will be between 0 and 1) to increase the training speed and performance of the model\n",
    "# scaler = MinMaxScaler()\n",
    "# scaler.fit(daily_cases)\n",
    "# daily_cases_scaled = scaler.transform(daily_cases)\n",
    "\n",
    "# we will use daily data to train\n",
    "test_size = 14\n",
    "train_data = cum_cases.iloc[:, :-test_size].to_numpy()\n",
    "test_data = cum_cases.iloc[:, -test_size:].to_numpy()"
   ]
  },
  {
   "cell_type": "code",
   "execution_count": 97,
   "metadata": {},
   "outputs": [
    {
     "name": "stdout",
     "output_type": "stream",
     "text": [
      "Coefficients: [ 0.0184949   1.53061224 -0.75765306  1.24234694 -2.45089286  2.95089286]\n",
      "predicted=10.735969, expected=9.000000\n",
      "predicted=16.374570, expected=10.000000\n",
      "predicted=27.143901, expected=10.000000\n",
      "predicted=34.193267, expected=9.000000\n",
      "predicted=46.475904, expected=11.000000\n",
      "predicted=70.518971, expected=13.000000\n",
      "predicted=97.015792, expected=14.000000\n",
      "predicted=149.117050, expected=15.000000\n",
      "predicted=229.356797, expected=18.000000\n",
      "predicted=322.934074, expected=20.000000\n",
      "predicted=476.106188, expected=22.000000\n",
      "predicted=689.834477, expected=28.000000\n",
      "predicted=974.259941, expected=29.000000\n",
      "predicted=1445.397073, expected=30.000000\n",
      "Test RMSE: 514.640\n"
     ]
    },
    {
     "data": {
      "image/png": "[encoded data removed]",
      "text/plain": [
       "<Figure size 432x288 with 1 Axes>"
      ]
     },
     "metadata": {
      "needs_background": "light"
     },
     "output_type": "display_data"
    }
   ],
   "source": [
    "i = 3\n",
    "model = sm.AR(train_data[i])\n",
    "model_fit = model.fit(maxlag=2)\n",
    "print('Coefficients: %s' % model_fit.params)\n",
    "# make predictions\n",
    "\n",
    "predictions = model_fit.predict(start=len(train_data[i]), end=len(train_data[i])+len(test_data[i])-1, dynamic=True)\n",
    "for j in range(len(predictions)):\n",
    "    print('predicted=%f, expected=%f' % (predictions[j], test_data[i, j]))\n",
    "\n",
    "rmse = sqrt(mean_squared_error(test_data[i], predictions))\n",
    "print('Test RMSE: %.3f' % rmse)\n",
    "# plot results\n",
    "plt.plot(test_data[i], label='expected')\n",
    "plt.plot(predictions, label='predicted')\n",
    "plt.legend()\n",
    "plt.show()"
   ]
  },
  {
   "cell_type": "code",
   "execution_count": 93,
   "metadata": {},
   "outputs": [],
   "source": [
    "arr_pred = []\n",
    "for i in range(len(train_data)):\n",
    "    model = sm.AR(train_data[i])\n",
    "    model_fit = model.fit(maxlag=2)\n",
    "\n",
    "    # make predictions\n",
    "    predictions = model_fit.predict(start=len(train_data[i]), end=len(train_data[i])+len(test_data[i])-1, dynamic=False)\n",
    "    arr_pred.append(predictions)"
   ]
  },
  {
   "cell_type": "code",
   "execution_count": 94,
   "metadata": {},
   "outputs": [
    {
     "name": "stdout",
     "output_type": "stream",
     "text": [
      "[[   0.            0.            0.         ...    0.\n",
      "     0.            0.        ]\n",
      " [  36.40017471   59.38133642   83.44477667 ...  409.72630124\n",
      "   464.5289531   524.35520857]\n",
      " [ 127.48744448  205.77406052  295.26040748 ... 2022.43451864\n",
      "  2382.45680464 2795.8969689 ]\n",
      " ...\n",
      " [   7.20516836   11.85455155   15.85206015 ...   75.01535598\n",
      "    83.67479989   94.45443068]\n",
      " [  11.75525661   19.49609552   28.95177169 ...  220.2417241\n",
      "   262.14619653  311.13234358]\n",
      " [   0.            0.            0.         ...    0.\n",
      "     0.            0.        ]]\n",
      "      4/10/20  4/11/20  4/12/20  4/13/20  4/14/20  4/15/20  4/16/20  4/17/20  \\\n",
      "0           0        0        0        0        0        0        0        0   \n",
      "1          17       19       19       19       23       25       25       25   \n",
      "2          59       66       71       78       87       98      102      103   \n",
      "3           9       10       10        9       11       13       14       15   \n",
      "4          11       13       16       17       17       19       23       23   \n",
      "...       ...      ...      ...      ...      ...      ...      ...      ...   \n",
      "3190        7        7        7        9        9       10       10       10   \n",
      "3191       53       53       56       56       57       59       59       61   \n",
      "3192        4        4        4        4        4        4        4        6   \n",
      "3193        5        5        5        5        5        5        5        5   \n",
      "3194        0        0        0        0        0        0        0        0   \n",
      "\n",
      "      4/18/20  4/19/20  4/20/20  4/21/20  4/22/20  4/23/20  \n",
      "0           0        0        0        0        0        0  \n",
      "1          25       27       28       30       32       33  \n",
      "2         109      114      117      123      132      143  \n",
      "3          18       20       22       28       29       30  \n",
      "4          26       28       32       32       33       33  \n",
      "...       ...      ...      ...      ...      ...      ...  \n",
      "3190       10       10       10       10       10       10  \n",
      "3191       62       62       62       62       63       63  \n",
      "3192        6        6        6        6        6        6  \n",
      "3193        5        5        5        5        5        5  \n",
      "3194        0        0        0        0        0        0  \n",
      "\n",
      "[3195 rows x 14 columns]\n",
      "Test RMSE: 421547711152.164\n"
     ]
    }
   ],
   "source": [
    "daily_pred = np.asarray(arr_pred)\n",
    "cum_pred = np.zeros((len(train_data), test_size))\n",
    "cum_pred[:, 0]= np.add(cum_cases.iloc[:, -15], daily_pred[:, 0])\n",
    "for i in range(1, 14):\n",
    "    cum_pred[:, i]= np.add(cum_pred[:, i-1], daily_pred[:, i])\n",
    "print(cum_pred)\n",
    "print(cum_cases.iloc[:, -test_size:])\n",
    "\n",
    "rmse = sqrt(mean_squared_error(cum_pred, cum_cases.iloc[:, -test_size:]))\n",
    "print('Test RMSE: %.3f' % rmse)"
   ]
  },
  {
   "cell_type": "code",
   "execution_count": null,
   "metadata": {},
   "outputs": [],
   "source": []
  }
 ],
 "metadata": {
  "kernelspec": {
   "display_name": "Python 3",
   "language": "python",
   "name": "python3"
  },
  "language_info": {
   "codemirror_mode": {
    "name": "ipython",
    "version": 3
   },
   "file_extension": ".py",
   "mimetype": "text/x-python",
   "name": "python",
   "nbconvert_exporter": "python",
   "pygments_lexer": "ipython3",
   "version": "3.7.6"
  }
 },
 "nbformat": 4,
 "nbformat_minor": 2
}
