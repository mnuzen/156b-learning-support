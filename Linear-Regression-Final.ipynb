{
 "cells": [
  {
   "cell_type": "code",
   "execution_count": 1,
   "metadata": {},
   "outputs": [],
   "source": [
    "# !pip install statsmodels\n",
    "import numpy as np\n",
    "import pandas as pd\n",
    "import matplotlib.pyplot as plt\n",
    "from datetime import date\n",
    "from sklearn.linear_model import LinearRegression\n",
    "\n",
    "from statsmodels.regression.quantile_regression import QuantReg\n",
    "import statsmodels.formula.api as smf\n",
    "from scipy.stats import norm"
   ]
  },
  {
   "cell_type": "code",
   "execution_count": 2,
   "metadata": {},
   "outputs": [],
   "source": [
    "url = 'https://raw.githubusercontent.com/mnuzen/156b-learning-support/master/data/us/covid/deaths.csv'\n",
    "df = pd.read_csv(url, header=0)"
   ]
  },
  {
   "cell_type": "code",
   "execution_count": 3,
   "metadata": {},
   "outputs": [
    {
     "name": "stdout",
     "output_type": "stream",
     "text": [
      "(3195, 130)\n"
     ]
    }
   ],
   "source": [
    "cum_cases = df.iloc[:, 4:]\n",
    "countyFIPS = df.iloc[:, 0].to_numpy()\n",
    "cum_cases = cum_cases.to_numpy()\n",
    "print(cum_cases.shape)"
   ]
  },
  {
   "cell_type": "code",
   "execution_count": 4,
   "metadata": {},
   "outputs": [],
   "source": [
    "# predict the last two weeks\n",
    "all_zeros = [0 for i in range(14)]\n",
    "PREDS = []\n",
    "reg = LinearRegression()\n",
    "for i in range(len(cum_cases)):\n",
    "    test = cum_cases[i, -14:]\n",
    "    train = cum_cases[i, :-14]\n",
    "    if train[-1] == 0: # no training\n",
    "        PREDS.append(all_zeros)\n",
    "    else:\n",
    "        j = 0\n",
    "        while train[j] == 0:\n",
    "            j+=1\n",
    "        j-=1\n",
    "        y = train[j:]\n",
    "        x = np.array(range(len(y))).reshape((len(y), 1))\n",
    "        x_pred = np.array(range(len(y), len(y)+14)).reshape((14,1))\n",
    "        reg.fit(x, y)\n",
    "        pred = reg.predict(x_pred)\n",
    "        PREDS.append(pred)"
   ]
  },
  {
   "cell_type": "code",
   "execution_count": 5,
   "metadata": {},
   "outputs": [
    {
     "name": "stdout",
     "output_type": "stream",
     "text": [
      "(3195, 14)\n"
     ]
    }
   ],
   "source": [
    "PREDS = np.array(PREDS)\n",
    "print(PREDS.shape)\n",
    "DAILY_PRED = np.zeros((3195,14))\n",
    "DAILY_PRED[:, 0] = np.subtract(PREDS[:,0], cum_cases[:, -15])\n",
    "for i in range(1, len(DAILY_PRED[0])):\n",
    "    DAILY_PRED[:, i] = np.subtract(PREDS[:,i], PREDS[:, i-1])"
   ]
  },
  {
   "cell_type": "code",
   "execution_count": 6,
   "metadata": {},
   "outputs": [],
   "source": [
    "FINAL_PRED = []\n",
    "dates = np.loadtxt('dates.txt', dtype=np.str)\n",
    "# assume normal distribution\n",
    "for county in range(len(DAILY_PRED)):\n",
    "    for date in range(len(DAILY_PRED[0])):\n",
    "        mean = DAILY_PRED[county, date]\n",
    "        std = max(1, mean)**(1/2)\n",
    "        heading = dates[date] + '-' + str(countyFIPS[county])\n",
    "        quantiles = np.linspace(norm.ppf(0.1, mean, std), norm.ppf(0.9, mean, std), 9)\n",
    "        quantiles = quantiles.clip(0).tolist()\n",
    "        quantiles.insert(0, heading)\n",
    "        FINAL_PRED.append(quantiles)"
   ]
  },
  {
   "cell_type": "code",
   "execution_count": 7,
   "metadata": {},
   "outputs": [
    {
     "name": "stdout",
     "output_type": "stream",
     "text": [
      "(44730, 10)\n",
      "['2020-05-17-17203' '0.0' '0.0' '0.0' '0.0' '0.007936507936507908'\n",
      " '0.3283243993226579' '0.6487122907088081' '0.9691001820949583'\n",
      " '1.2894880734811083']\n"
     ]
    }
   ],
   "source": [
    "FINAL_PRED = np.array(FINAL_PRED)\n",
    "print(FINAL_PRED.shape)\n",
    "print(FINAL_PRED[9960])"
   ]
  },
  {
   "cell_type": "code",
   "execution_count": 24,
   "metadata": {},
   "outputs": [],
   "source": [
    "df = pd.DataFrame(data={\"id\": FINAL_PRED[:, 0], \n",
    "                        \"10\": FINAL_PRED[:, 1], \n",
    "                        \"20\": FINAL_PRED[:, 2], \n",
    "                        \"30\": FINAL_PRED[:, 3], \n",
    "                        \"40\": FINAL_PRED[:, 4], \n",
    "                        \"50\": FINAL_PRED[:, 5], \n",
    "                        \"60\": FINAL_PRED[:, 6], \n",
    "                        \"70\": FINAL_PRED[:, 7], \n",
    "                        \"80\": FINAL_PRED[:, 8], \n",
    "                        \"90\": FINAL_PRED[:, 9]})\n",
    "df.to_csv(\"./test_linreg_daily.csv\", sep=',',index=False)"
   ]
  },
  {
   "cell_type": "code",
   "execution_count": null,
   "metadata": {},
   "outputs": [],
   "source": []
  },
  {
   "cell_type": "code",
   "execution_count": 26,
   "metadata": {},
   "outputs": [],
   "source": [
    "# predict the last two weeks\n",
    "all_zeros = [0 for i in range(14)]\n",
    "PREDS = []\n",
    "reg = LinearRegression()\n",
    "for i in range(len(cum_cases)):\n",
    "    if cum_cases[i, -1] == 0: # no training\n",
    "        PREDS.append(all_zeros)\n",
    "    else:\n",
    "        j = 0\n",
    "        y = cum_cases[i]\n",
    "        while y[j] == 0:\n",
    "            j+=1\n",
    "        j-=1\n",
    "        y = y[j:]\n",
    "        x = np.array(range(len(y))).reshape((len(y), 1))\n",
    "        x_pred = np.array(range(len(y), len(y)+14)).reshape((14,1))\n",
    "        reg.fit(x, y)\n",
    "        pred = reg.predict(x_pred)\n",
    "        PREDS.append(pred)"
   ]
  },
  {
   "cell_type": "code",
   "execution_count": 27,
   "metadata": {},
   "outputs": [
    {
     "name": "stdout",
     "output_type": "stream",
     "text": [
      "(3195, 14)\n"
     ]
    }
   ],
   "source": [
    "PREDS = np.array(PREDS)\n",
    "print(PREDS.shape)\n",
    "DAILY_PRED = np.zeros((3195,14))\n",
    "DAILY_PRED[:, 0] = np.subtract(PREDS[:,0], cum_cases[:, -1])\n",
    "for i in range(1, len(DAILY_PRED[0])):\n",
    "    DAILY_PRED[:, i] = np.subtract(PREDS[:,i], PREDS[:, i-1])"
   ]
  },
  {
   "cell_type": "code",
   "execution_count": 28,
   "metadata": {},
   "outputs": [],
   "source": [
    "FINAL_PRED = []\n",
    "dates = np.loadtxt('dates_final.txt', dtype=np.str)\n",
    "# assume normal distribution\n",
    "for county in range(len(DAILY_PRED)):\n",
    "    for date in range(len(DAILY_PRED[0])):\n",
    "        mean = DAILY_PRED[county, date]\n",
    "        std = max(1, mean)**(1/2)\n",
    "        heading = dates[date] + '-' + str(countyFIPS[county])\n",
    "        quantiles = np.linspace(norm.ppf(0.1, mean, std), norm.ppf(0.9, mean, std), 9)\n",
    "        quantiles = quantiles.clip(0).tolist()\n",
    "        quantiles.insert(0, heading)\n",
    "        FINAL_PRED.append(quantiles)"
   ]
  },
  {
   "cell_type": "code",
   "execution_count": 32,
   "metadata": {},
   "outputs": [
    {
     "name": "stdout",
     "output_type": "stream",
     "text": [
      "(44730, 10)\n",
      "['2020-05-31-55079' '2.012818209678896' '2.7168728160108686'\n",
      " '3.4209274223428414' '4.124982028674815' '4.829036635006787'\n",
      " '5.533091241338759' '6.237145847670733' '6.941200454002706'\n",
      " '7.645255060334678']\n"
     ]
    }
   ],
   "source": [
    "FINAL_PRED = np.array(FINAL_PRED)\n",
    "print(FINAL_PRED.shape)\n",
    "print(FINAL_PRED[43952])"
   ]
  },
  {
   "cell_type": "code",
   "execution_count": 31,
   "metadata": {},
   "outputs": [],
   "source": [
    "df = pd.DataFrame(data={\"id\": FINAL_PRED[:, 0], \n",
    "                        \"10\": FINAL_PRED[:, 1], \n",
    "                        \"20\": FINAL_PRED[:, 2], \n",
    "                        \"30\": FINAL_PRED[:, 3], \n",
    "                        \"40\": FINAL_PRED[:, 4], \n",
    "                        \"50\": FINAL_PRED[:, 5], \n",
    "                        \"60\": FINAL_PRED[:, 6], \n",
    "                        \"70\": FINAL_PRED[:, 7], \n",
    "                        \"80\": FINAL_PRED[:, 8], \n",
    "                        \"90\": FINAL_PRED[:, 9]})\n",
    "df.to_csv(\"./submission_linreg_daily.csv\", sep=',',index=False)"
   ]
  },
  {
   "cell_type": "markdown",
   "metadata": {},
   "source": [
    "code demo also needed: Your code demo should be a Jupyter notebook which lays out exactly how to run your final model. This notebook should live in the parent directory of your git repo and be called ‘<team_name>_<team_number>_code_demo.ipynb’. The first cell should contain any data preprocessing you performed (smoothing, clustering, interpolation, etc). Subsequent cells should run your model, or models if your final submission was a blend. After all code cells are run the final output should be your final submission file for EvalAI. Note that we don’t want any of your actual model code in here, just calls to functions in other files which actually contain the model and brief descriptions of what each function call is doing. If some or all of your models are not written in Python the notebook should execute command line scripts which run your model. At the end, please include a rough estimate of how much time your model takes to run from beginning to end and what platform you run your models on (in case there are cross-platform compatibility issues). If you have models which did not make it into your final submission but which you’d like us to look at you’re welcome to add those into this notebook as well, just make it clear which model produced the actual final submission. While compiling this code demo you should also take the time to clean up your github repo and document your code, as this will form a small part of your final grade independent from the final report (see syllabus)."
   ]
  }
 ],
 "metadata": {
  "kernelspec": {
   "display_name": "Python 3",
   "language": "python",
   "name": "python3"
  },
  "language_info": {
   "codemirror_mode": {
    "name": "ipython",
    "version": 3
   },
   "file_extension": ".py",
   "mimetype": "text/x-python",
   "name": "python",
   "nbconvert_exporter": "python",
   "pygments_lexer": "ipython3",
   "version": "3.7.6"
  }
 },
 "nbformat": 4,
 "nbformat_minor": 2
}
